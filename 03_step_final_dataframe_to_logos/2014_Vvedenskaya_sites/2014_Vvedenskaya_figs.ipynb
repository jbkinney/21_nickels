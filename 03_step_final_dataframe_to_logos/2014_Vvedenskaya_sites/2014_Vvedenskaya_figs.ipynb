{
 "cells": [
  {
   "cell_type": "code",
   "execution_count": 1,
   "id": "159c5661",
   "metadata": {
    "ExecuteTime": {
     "end_time": "2021-10-29T21:54:11.020139Z",
     "start_time": "2021-10-29T21:54:10.224698Z"
    }
   },
   "outputs": [],
   "source": [
    "import matplotlib.pyplot as plt\n",
    "import numpy as np\n",
    "import pandas as pd\n",
    "%matplotlib inline\n",
    "\n",
    "import logomaker"
   ]
  },
  {
   "cell_type": "code",
   "execution_count": 2,
   "id": "f5e0df1a",
   "metadata": {
    "ExecuteTime": {
     "end_time": "2021-10-29T21:54:11.197151Z",
     "start_time": "2021-10-29T21:54:11.021366Z"
    }
   },
   "outputs": [],
   "source": [
    "df = pd.read_excel('Pause_sites_Vvedenskaya_2014.xlsx', header=None, names=['seq'])"
   ]
  },
  {
   "cell_type": "code",
   "execution_count": 3,
   "id": "bb587c04",
   "metadata": {
    "ExecuteTime": {
     "end_time": "2021-10-29T21:54:11.207357Z",
     "start_time": "2021-10-29T21:54:11.198112Z"
    }
   },
   "outputs": [
    {
     "name": "stdout",
     "output_type": "stream",
     "text": [
      "[11]\n"
     ]
    },
    {
     "data": {
      "text/html": [
       "<div>\n",
       "<style scoped>\n",
       "    .dataframe tbody tr th:only-of-type {\n",
       "        vertical-align: middle;\n",
       "    }\n",
       "\n",
       "    .dataframe tbody tr th {\n",
       "        vertical-align: top;\n",
       "    }\n",
       "\n",
       "    .dataframe thead th {\n",
       "        text-align: right;\n",
       "    }\n",
       "</style>\n",
       "<table border=\"1\" class=\"dataframe\">\n",
       "  <thead>\n",
       "    <tr style=\"text-align: right;\">\n",
       "      <th></th>\n",
       "      <th>seq</th>\n",
       "      <th>len</th>\n",
       "    </tr>\n",
       "  </thead>\n",
       "  <tbody>\n",
       "    <tr>\n",
       "      <th>0</th>\n",
       "      <td>TACCACCACCA</td>\n",
       "      <td>11</td>\n",
       "    </tr>\n",
       "    <tr>\n",
       "      <th>1</th>\n",
       "      <td>GGCCTTCTATA</td>\n",
       "      <td>11</td>\n",
       "    </tr>\n",
       "    <tr>\n",
       "      <th>2</th>\n",
       "      <td>AACCTCGGACG</td>\n",
       "      <td>11</td>\n",
       "    </tr>\n",
       "    <tr>\n",
       "      <th>3</th>\n",
       "      <td>AATGACACTCG</td>\n",
       "      <td>11</td>\n",
       "    </tr>\n",
       "    <tr>\n",
       "      <th>4</th>\n",
       "      <td>GGAAGGCCGTA</td>\n",
       "      <td>11</td>\n",
       "    </tr>\n",
       "    <tr>\n",
       "      <th>...</th>\n",
       "      <td>...</td>\n",
       "      <td>...</td>\n",
       "    </tr>\n",
       "    <tr>\n",
       "      <th>5499</th>\n",
       "      <td>AGACGCTGGCG</td>\n",
       "      <td>11</td>\n",
       "    </tr>\n",
       "    <tr>\n",
       "      <th>5500</th>\n",
       "      <td>GATAATCCACG</td>\n",
       "      <td>11</td>\n",
       "    </tr>\n",
       "    <tr>\n",
       "      <th>5501</th>\n",
       "      <td>TGTCCCCTGCG</td>\n",
       "      <td>11</td>\n",
       "    </tr>\n",
       "    <tr>\n",
       "      <th>5502</th>\n",
       "      <td>ACGCAATTACG</td>\n",
       "      <td>11</td>\n",
       "    </tr>\n",
       "    <tr>\n",
       "      <th>5503</th>\n",
       "      <td>TCTTAGCCTGT</td>\n",
       "      <td>11</td>\n",
       "    </tr>\n",
       "  </tbody>\n",
       "</table>\n",
       "<p>5504 rows × 2 columns</p>\n",
       "</div>"
      ],
      "text/plain": [
       "              seq  len\n",
       "0     TACCACCACCA   11\n",
       "1     GGCCTTCTATA   11\n",
       "2     AACCTCGGACG   11\n",
       "3     AATGACACTCG   11\n",
       "4     GGAAGGCCGTA   11\n",
       "...           ...  ...\n",
       "5499  AGACGCTGGCG   11\n",
       "5500  GATAATCCACG   11\n",
       "5501  TGTCCCCTGCG   11\n",
       "5502  ACGCAATTACG   11\n",
       "5503  TCTTAGCCTGT   11\n",
       "\n",
       "[5504 rows x 2 columns]"
      ]
     },
     "execution_count": 3,
     "metadata": {},
     "output_type": "execute_result"
    }
   ],
   "source": [
    "df['seq'] = [s.upper() for s in df['seq']]\n",
    "df['len'] = [len(s) for s in df['seq']]\n",
    "print(df['len'].unique())\n",
    "df"
   ]
  },
  {
   "cell_type": "code",
   "execution_count": 4,
   "id": "800a73af",
   "metadata": {
    "ExecuteTime": {
     "end_time": "2021-10-29T21:54:11.230780Z",
     "start_time": "2021-10-29T21:54:11.208005Z"
    }
   },
   "outputs": [],
   "source": [
    "gc_content = .508\n",
    "bg = [(1-gc_content)/2,gc_content/2,gc_content/2,(1-gc_content)/2]\n",
    "logo_df = logomaker.alignment_to_matrix(df['seq'], background=bg, \n",
    "                                        to_type='weight', center_weights=True)"
   ]
  },
  {
   "cell_type": "code",
   "execution_count": 5,
   "id": "513e0e45",
   "metadata": {
    "ExecuteTime": {
     "end_time": "2021-10-29T21:54:11.448715Z",
     "start_time": "2021-10-29T21:54:11.231482Z"
    }
   },
   "outputs": [
    {
     "data": {
      "image/png": "[encoded data removed]",
      "text/plain": [
       "<Figure size 576x144 with 1 Axes>"
      ]
     },
     "metadata": {
      "needs_background": "light"
     },
     "output_type": "display_data"
    }
   ],
   "source": [
    "# Show full logo\n",
    "ylim = [-3, 3]\n",
    "yticks = range(-3,4)\n",
    "fig, ax = plt.subplots(figsize=[8,2])\n",
    "\n",
    "logo = logomaker.Logo(logo_df, show_spines=False, ax=ax, flip_below=False)\n",
    "ax.set_ylim(ylim)\n",
    "ax.set_yticks(yticks)\n",
    "ax.set_ylabel('log2 enrichment')\n",
    "fig.tight_layout()\n",
    "fig.savefig('full_logo.pdf')"
   ]
  },
  {
   "cell_type": "code",
   "execution_count": 6,
   "id": "9a669f93",
   "metadata": {
    "ExecuteTime": {
     "end_time": "2021-10-29T21:54:11.550039Z",
     "start_time": "2021-10-29T21:54:11.449487Z"
    }
   },
   "outputs": [
    {
     "data": {
      "image/png": "[encoded data removed]",
      "text/plain": [
       "<Figure size 288x144 with 1 Axes>"
      ]
     },
     "metadata": {
      "needs_background": "light"
     },
     "output_type": "display_data"
    }
   ],
   "source": [
    "fig, ax = plt.subplots(figsize=[4,2])\n",
    "\n",
    "clipped_logo = logo_df.iloc[-4:,:]\n",
    "clipped_logo.index = range(1,5)\n",
    "logo = logomaker.Logo(clipped_logo, show_spines=False, ax=ax, flip_below=False)\n",
    "logo.style_xticks(anchor=1,spacing=1)\n",
    "ax.set_ylim(ylim)\n",
    "ax.set_yticks(yticks)\n",
    "ax.set_ylabel('log2 enrichment')\n",
    "fig.tight_layout()\n",
    "fig.savefig('clipped_logo.pdf')"
   ]
  }
 ],
 "metadata": {
  "kernelspec": {
   "display_name": "Python 3",
   "language": "python",
   "name": "python3"
  },
  "language_info": {
   "codemirror_mode": {
    "name": "ipython",
    "version": 3
   },
   "file_extension": ".py",
   "mimetype": "text/x-python",
   "name": "python",
   "nbconvert_exporter": "python",
   "pygments_lexer": "ipython3",
   "version": "3.9.1"
  },
  "varInspector": {
   "cols": {
    "lenName": 16,
    "lenType": 16,
    "lenVar": 40
   },
   "kernels_config": {
    "python": {
     "delete_cmd_postfix": "",
     "delete_cmd_prefix": "del ",
     "library": "var_list.py",
     "varRefreshCmd": "print(var_dic_list())"
    },
    "r": {
     "delete_cmd_postfix": ") ",
     "delete_cmd_prefix": "rm(",
     "library": "var_list.r",
     "varRefreshCmd": "cat(var_dic_list()) "
    }
   },
   "types_to_exclude": [
    "module",
    "function",
    "builtin_function_or_method",
    "instance",
    "_Feature"
   ],
   "window_display": false
  }
 },
 "nbformat": 4,
 "nbformat_minor": 5
}
